{
 "cells": [
  {
   "cell_type": "code",
   "execution_count": null,
   "metadata": {},
   "outputs": [],
   "source": []
  },
  {
   "cell_type": "code",
   "execution_count": 1,
   "metadata": {},
   "outputs": [],
   "source": [
    "import pandas as pd\n",
    "import numpy as np\n",
    "import matplotlib.pyplot as plt\n",
    "import seaborn as sns\n",
    "%matplotlib inline\n",
    "import time\n",
    "import os\n",
    "from os import listdir\n",
    "from sklearn.model_selection import train_test_split\n",
    "from sklearn import preprocessing\n",
    "from sklearn import manifold, decomposition\n",
    "from sklearn.metrics import accuracy_score, auc, roc_auc_score, roc_curve\n",
    "from sklearn import cluster, metrics\n",
    "from glob import glob\n",
    "\n",
    "import mlflow\n",
    "import tensorflow as tf\n",
    "from tensorflow.keras.models import Model, Sequential\n",
    "from tensorflow.keras.layers import GlobalAveragePooling2D, GlobalAveragePooling1D, Flatten, Dense, Dropout \n",
    "from tensorflow.keras.layers import Rescaling, RandomFlip, RandomRotation, RandomZoom\n",
    "from tensorflow.keras.callbacks import EarlyStopping, ModelCheckpoint\n",
    "from tensorflow.keras.applications.vgg16 import VGG16\n",
    "from tensorflow.keras.applications.vgg16 import preprocess_input\n",
    "from tensorflow.keras.preprocessing.image import load_img, img_to_array\n",
    "from tensorflow.keras.utils import to_categorical\n",
    "from tensorflow.keras.models import load_model\n",
    "from tensorflow.keras.preprocessing.image import ImageDataGenerator\n",
    "from tensorflow.keras.models import Sequential\n",
    "from tensorflow.keras.layers import Conv2D, MaxPooling2D, GlobalAveragePooling2D, Dense, Dropout, Input\n",
    "from plot_keras_history import show_history, plot_history\n",
    "import matplotlib.pyplot as plt\n",
    "from keras.models import load_model\n",
    "from keras.optimizers import RMSprop \n",
    "import matplotlib.image as mpimg\n",
    "from tensorflow.keras.optimizers import Adam\n",
    "from keras_tuner import RandomSearch\n",
    "from tensorflow.keras.optimizers import SGD"
   ]
  },
  {
   "cell_type": "markdown",
   "metadata": {},
   "source": [
    "## importation des images"
   ]
  },
  {
   "cell_type": "code",
   "execution_count": 48,
   "metadata": {},
   "outputs": [
    {
     "name": "stdout",
     "output_type": "stream",
     "text": [
      "453\n"
     ]
    },
    {
     "data": {
      "text/html": [
       "<div>\n",
       "<style scoped>\n",
       "    .dataframe tbody tr th:only-of-type {\n",
       "        vertical-align: middle;\n",
       "    }\n",
       "\n",
       "    .dataframe tbody tr th {\n",
       "        vertical-align: top;\n",
       "    }\n",
       "\n",
       "    .dataframe thead th {\n",
       "        text-align: right;\n",
       "    }\n",
       "</style>\n",
       "<table border=\"1\" class=\"dataframe\">\n",
       "  <thead>\n",
       "    <tr style=\"text-align: right;\">\n",
       "      <th></th>\n",
       "      <th>image_path</th>\n",
       "      <th>label_name</th>\n",
       "      <th>label</th>\n",
       "    </tr>\n",
       "  </thead>\n",
       "  <tbody>\n",
       "    <tr>\n",
       "      <th>0</th>\n",
       "      <td>./Data/images/Chihuahua/n02085620_12334.jpg</td>\n",
       "      <td>Chihuahua</td>\n",
       "      <td>0</td>\n",
       "    </tr>\n",
       "    <tr>\n",
       "      <th>1</th>\n",
       "      <td>./Data/images/Chihuahua/n02085620_3928.jpg</td>\n",
       "      <td>Chihuahua</td>\n",
       "      <td>0</td>\n",
       "    </tr>\n",
       "    <tr>\n",
       "      <th>2</th>\n",
       "      <td>./Data/images/Chihuahua/n02085620_11258.jpg</td>\n",
       "      <td>Chihuahua</td>\n",
       "      <td>0</td>\n",
       "    </tr>\n",
       "    <tr>\n",
       "      <th>3</th>\n",
       "      <td>./Data/images/boxer/n02108089_1104.jpg</td>\n",
       "      <td>boxer</td>\n",
       "      <td>2</td>\n",
       "    </tr>\n",
       "    <tr>\n",
       "      <th>4</th>\n",
       "      <td>./Data/images/boxer/n02108089_9778.jpg</td>\n",
       "      <td>boxer</td>\n",
       "      <td>2</td>\n",
       "    </tr>\n",
       "    <tr>\n",
       "      <th>...</th>\n",
       "      <td>...</td>\n",
       "      <td>...</td>\n",
       "      <td>...</td>\n",
       "    </tr>\n",
       "    <tr>\n",
       "      <th>357</th>\n",
       "      <td>./Data/images/Chihuahua/n02085620_2903.jpg</td>\n",
       "      <td>Chihuahua</td>\n",
       "      <td>0</td>\n",
       "    </tr>\n",
       "    <tr>\n",
       "      <th>358</th>\n",
       "      <td>./Data/images/Eskimo_dog/n02109961_1032.jpg</td>\n",
       "      <td>Eskimo_dog</td>\n",
       "      <td>1</td>\n",
       "    </tr>\n",
       "    <tr>\n",
       "      <th>359</th>\n",
       "      <td>./Data/images/boxer/n02108089_125.jpg</td>\n",
       "      <td>boxer</td>\n",
       "      <td>2</td>\n",
       "    </tr>\n",
       "    <tr>\n",
       "      <th>360</th>\n",
       "      <td>./Data/images/boxer/n02108089_3899.jpg</td>\n",
       "      <td>boxer</td>\n",
       "      <td>2</td>\n",
       "    </tr>\n",
       "    <tr>\n",
       "      <th>361</th>\n",
       "      <td>./Data/images/Chihuahua/n02085620_3942.jpg</td>\n",
       "      <td>Chihuahua</td>\n",
       "      <td>0</td>\n",
       "    </tr>\n",
       "  </tbody>\n",
       "</table>\n",
       "<p>362 rows × 3 columns</p>\n",
       "</div>"
      ],
      "text/plain": [
       "                                      image_path  label_name  label\n",
       "0    ./Data/images/Chihuahua/n02085620_12334.jpg   Chihuahua      0\n",
       "1     ./Data/images/Chihuahua/n02085620_3928.jpg   Chihuahua      0\n",
       "2    ./Data/images/Chihuahua/n02085620_11258.jpg   Chihuahua      0\n",
       "3         ./Data/images/boxer/n02108089_1104.jpg       boxer      2\n",
       "4         ./Data/images/boxer/n02108089_9778.jpg       boxer      2\n",
       "..                                           ...         ...    ...\n",
       "357   ./Data/images/Chihuahua/n02085620_2903.jpg   Chihuahua      0\n",
       "358  ./Data/images/Eskimo_dog/n02109961_1032.jpg  Eskimo_dog      1\n",
       "359        ./Data/images/boxer/n02108089_125.jpg       boxer      2\n",
       "360       ./Data/images/boxer/n02108089_3899.jpg       boxer      2\n",
       "361   ./Data/images/Chihuahua/n02085620_3942.jpg   Chihuahua      0\n",
       "\n",
       "[362 rows x 3 columns]"
      ]
     },
     "metadata": {},
     "output_type": "display_data"
    },
    {
     "data": {
      "text/html": [
       "<div>\n",
       "<style scoped>\n",
       "    .dataframe tbody tr th:only-of-type {\n",
       "        vertical-align: middle;\n",
       "    }\n",
       "\n",
       "    .dataframe tbody tr th {\n",
       "        vertical-align: top;\n",
       "    }\n",
       "\n",
       "    .dataframe thead th {\n",
       "        text-align: right;\n",
       "    }\n",
       "</style>\n",
       "<table border=\"1\" class=\"dataframe\">\n",
       "  <thead>\n",
       "    <tr style=\"text-align: right;\">\n",
       "      <th></th>\n",
       "      <th>image_path</th>\n",
       "      <th>label_name</th>\n",
       "      <th>label</th>\n",
       "    </tr>\n",
       "  </thead>\n",
       "  <tbody>\n",
       "    <tr>\n",
       "      <th>0</th>\n",
       "      <td>./Data/images/boxer/n02108089_2653.jpg</td>\n",
       "      <td>boxer</td>\n",
       "      <td>2</td>\n",
       "    </tr>\n",
       "    <tr>\n",
       "      <th>1</th>\n",
       "      <td>./Data/images/Chihuahua/n02085620_10976.jpg</td>\n",
       "      <td>Chihuahua</td>\n",
       "      <td>0</td>\n",
       "    </tr>\n",
       "    <tr>\n",
       "      <th>2</th>\n",
       "      <td>./Data/images/boxer/n02108089_485.jpg</td>\n",
       "      <td>boxer</td>\n",
       "      <td>2</td>\n",
       "    </tr>\n",
       "    <tr>\n",
       "      <th>3</th>\n",
       "      <td>./Data/images/boxer/n02108089_3028.jpg</td>\n",
       "      <td>boxer</td>\n",
       "      <td>2</td>\n",
       "    </tr>\n",
       "    <tr>\n",
       "      <th>4</th>\n",
       "      <td>./Data/images/Eskimo_dog/n02109961_16095.jpg</td>\n",
       "      <td>Eskimo_dog</td>\n",
       "      <td>1</td>\n",
       "    </tr>\n",
       "  </tbody>\n",
       "</table>\n",
       "</div>"
      ],
      "text/plain": [
       "                                     image_path  label_name  label\n",
       "0        ./Data/images/boxer/n02108089_2653.jpg       boxer      2\n",
       "1   ./Data/images/Chihuahua/n02085620_10976.jpg   Chihuahua      0\n",
       "2         ./Data/images/boxer/n02108089_485.jpg       boxer      2\n",
       "3        ./Data/images/boxer/n02108089_3028.jpg       boxer      2\n",
       "4  ./Data/images/Eskimo_dog/n02109961_16095.jpg  Eskimo_dog      1"
      ]
     },
     "execution_count": 48,
     "metadata": {},
     "output_type": "execute_result"
    }
   ],
   "source": [
    "# Définir le chemin vers les données\n",
    "path = './Data/images/'\n",
    "# Charger et prétraiter les images\n",
    "\n",
    "list_labels = [\"boxer\", \"Chihuahua\", \"Eskimo_dog\"]\n",
    "label_no_name = \"no_name\"\n",
    "\n",
    "def photo_class(photo) :\n",
    "    for label in list_labels :\n",
    "        if label in photo : \n",
    "            return label\n",
    "    return label_no_name\n",
    "    \n",
    "data_path = glob(path+'**/*.jp*', recursive=True)\n",
    "\n",
    "def data_fct(path) :\n",
    "    list_photos = [file for file in path]\n",
    "    print(len(list_photos))\n",
    "    data = pd.DataFrame()\n",
    "    data[\"image_path\"] = list_photos\n",
    "    data[\"label_name\"] = data[\"image_path\"].apply(lambda x : photo_class(x))\n",
    "    return data\n",
    "\n",
    "data = data_fct(data_path)\n",
    "data, data_test = train_test_split(data, test_size=0.2, random_state=42)\n",
    "le = preprocessing.LabelEncoder()\n",
    "le.fit(data[\"label_name\"])\n",
    "data[\"label\"] = le.transform(data[\"label_name\"])\n",
    "data = data.reset_index(drop=True)\n",
    "data_test[\"label\"] = le.transform(data_test[\"label_name\"])\n",
    "data_test = data_test.reset_index(drop=True)\n",
    "display(data)\n",
    "data_test.head(5)\n"
   ]
  },
  {
   "cell_type": "code",
   "execution_count": 3,
   "metadata": {},
   "outputs": [
    {
     "name": "stdout",
     "output_type": "stream",
     "text": [
      "       image_path  label_name\n",
      "label                        \n",
      "0             118         118\n",
      "1             126         126\n",
      "2             118         118\n",
      "       image_path  label_name\n",
      "label                        \n",
      "0              34          34\n",
      "1              24          24\n",
      "2              33          33\n"
     ]
    }
   ],
   "source": [
    "print(data.groupby(\"label\").count())\n",
    "print(data_test.groupby(\"label\").count())"
   ]
  },
  {
   "cell_type": "markdown",
   "metadata": {},
   "source": [
    "## functions"
   ]
  },
  {
   "cell_type": "code",
   "execution_count": 65,
   "metadata": {},
   "outputs": [],
   "source": [
    "def conf_mat_transform(y_true,y_pred) :\n",
    "    conf_mat = metrics.confusion_matrix(y_true,y_pred)\n",
    "    \n",
    "    corresp = np.argmax(conf_mat, axis=0)\n",
    "    print (\"Correspondance des clusters : \", corresp)\n",
    "    # y_pred_transform = np.apply_along_axis(correspond_fct, 1, y_pred)\n",
    "    labels = pd.Series(y_true, name=\"y_true\").to_frame()\n",
    "    labels['y_pred'] = y_pred\n",
    "    labels['y_pred_transform'] = labels['y_pred'].apply(lambda x : corresp[x]) \n",
    "    \n",
    "    return labels['y_pred_transform']\n",
    "\n",
    "def create_model_fct_vanilla():\n",
    "    my_model = Sequential([\n",
    "        Input(shape=(224, 224, 3)),\n",
    "        Conv2D(32, (3, 3), activation='relu'),\n",
    "        MaxPooling2D((2, 2)),\n",
    "        Conv2D(64, (3, 3), activation='relu'),\n",
    "        MaxPooling2D((2, 2)),\n",
    "        Conv2D(128, (3, 3), activation='relu'),\n",
    "        GlobalAveragePooling2D(),\n",
    "        Dense(128, activation='relu'),\n",
    "        Dropout(0.3),\n",
    "        Dense(3, activation='softmax')\n",
    "        ])\n",
    "\n",
    "    #display(my_model.summary())\n",
    "    return my_model\n",
    "\n",
    "def build_model(hp):\n",
    "    model = Sequential([\n",
    "        Input(shape=(224, 224, 3)),\n",
    "        Conv2D(hp.Int('conv_1_filters', min_value=32, max_value=64, step=32), (3, 3), activation='relu'),\n",
    "        MaxPooling2D((2, 2)),\n",
    "        Conv2D(hp.Int('conv_2_filters', min_value=64, max_value=128, step=64), (3, 3), activation='relu'),\n",
    "        MaxPooling2D((2, 2)),\n",
    "        Conv2D(hp.Int('conv_3_filters', min_value=128, max_value=256, step=128), (3, 3), activation='relu'),\n",
    "        GlobalAveragePooling2D(),\n",
    "        Dense(hp.Int('dense_units', min_value=32, max_value=128, step=32), activation='relu'),\n",
    "        Dropout(hp.Float('dropout', min_value=0.0, max_value=0.5, step=0.1)),\n",
    "        Dense(3, activation='softmax')\n",
    "    ])\n",
    "    \n",
    "    # Choose optimizer\n",
    "    optimizer_choice = hp.Choice('optimizer', values=['adam', 'sgd', 'rmsprop'])\n",
    "    \n",
    "    # Set learning rate\n",
    "    learning_rate = hp.Float('learning_rate', min_value=1e-4, max_value=1e-2, sampling='log')\n",
    "    \n",
    "    if optimizer_choice == 'adam':\n",
    "        optimizer = Adam(learning_rate=learning_rate)\n",
    "    elif optimizer_choice == 'sgd':\n",
    "        optimizer = SGD(learning_rate=learning_rate)\n",
    "    else:  # 'rmsprop'\n",
    "        optimizer = RMSprop(learning_rate=learning_rate)\n",
    "    \n",
    "    model.compile(optimizer=optimizer,\n",
    "                  loss='categorical_crossentropy',\n",
    "                  metrics=['accuracy'])\n",
    "    return model\n",
    "\n",
    "'''def image_prep_fct(data) :\n",
    "    prepared_images = []\n",
    "    for image_num in range(len(data['image_path'])) :\n",
    "        img = (load_img(\n",
    "            data['image_path'][image_num],\n",
    "            target_size=(224, 224)))\n",
    "        img = img_to_array(img)\n",
    "        img = img.reshape((img.shape[0], img.shape[1], img.shape[2]))\n",
    "        img = preprocess_input(img)\n",
    "        prepared_images.append(img)\n",
    "        prepared_images_np = np.array(prepared_images)\n",
    "    return prepared_images_np'''\n",
    "\n",
    "def image_prep_fct(data):\n",
    "    prepared_images = []\n",
    "    for image_num in range(len(data['image_path'])):\n",
    "        # Load and resize the image\n",
    "        img = load_img(data['image_path'][image_num], target_size=(224, 224))\n",
    "        # Convert the image to a numpy array\n",
    "        img = img_to_array(img)\n",
    "        # Normalize the image to the range [0, 1]\n",
    "        img = img / 255.0\n",
    "        # Centering around zero\n",
    "        img = img - 0.5\n",
    "        img = img * 2.0\n",
    "    \n",
    "        # Whitening\n",
    "        mean = np.mean(img, axis=(0, 1, 2), keepdims=True)\n",
    "        std = np.std(img, axis=(0, 1, 2), keepdims=True)\n",
    "        img = (img - mean) / (std + 1e-7)  # Add a small value to avoid division by zero\n",
    "    \n",
    "        # Equalization (histogram equalization)\n",
    "        img = tf.image.per_image_standardization(img)  # This operation normalizes each image individually\n",
    "        # Append the processed image to the list\n",
    "        prepared_images.append(img)\n",
    "    # Convert the list of images to a numpy array\n",
    "    prepared_images_np = np.array(prepared_images)\n",
    "    return prepared_images_np\n",
    "\n",
    "import numpy as np\n",
    "from tensorflow.keras.preprocessing.image import load_img, img_to_array\n",
    "import tensorflow as tf\n",
    "\n",
    "def custom_preprocess(img):\n",
    "    # Check if img is already a numpy array; if not, convert it\n",
    "    if not isinstance(img, np.ndarray):\n",
    "        raise ValueError(\"Input must be a numpy array\")\n",
    "\n",
    "    # Normalize the image to the range [-1, 1]\n",
    "    img = (img / 255.0) * 2.0 - 1.0\n",
    "    \n",
    "    # Whitening: Mean subtraction and division by standard deviation\n",
    "    mean = np.mean(img, axis=(0, 1, 2), keepdims=True)\n",
    "    std = np.std(img, axis=(0, 1, 2), keepdims=True)\n",
    "    img = (img - mean) / (std + 1e-7)  # Add a small value to avoid division by zero\n",
    "    \n",
    "    # Optionally, apply histogram equalization\n",
    "    img = tf.image.per_image_standardization(img)\n",
    "    \n",
    "    return img\n",
    "\n",
    "def data_flow_fct(data, datagen, data_type=None):\n",
    "    data_flow = datagen.flow_from_dataframe(\n",
    "        dataframe=data,            # Pass the dataframe containing the data\n",
    "        directory='',              # Directory is set to '' as paths are in dataframe\n",
    "        x_col='image_path',        # Column in dataframe with image paths\n",
    "        y_col='label_name',        # Column in dataframe with labels\n",
    "        target_size=(224, 224),    # Target size for resizing images\n",
    "        class_mode='categorical',  # Use 'categorical' for multi-class classification\n",
    "        batch_size=batch_size,     # Batch size for the data flow\n",
    "        shuffle=True,              # Shuffle the data\n",
    "        seed=42,                   # Seed for reproducibility\n",
    "        subset=data_type           # Pass 'training' or 'validation' to subset\n",
    "    )\n",
    "    return data_flow"
   ]
  },
  {
   "cell_type": "markdown",
   "metadata": {},
   "source": [
    "# classification avec modele sans entrainement prealable"
   ]
  },
  {
   "cell_type": "code",
   "execution_count": 5,
   "metadata": {},
   "outputs": [
    {
     "name": "stdout",
     "output_type": "stream",
     "text": [
      "(362, 224, 224, 3)\n",
      "(91, 224, 224, 3)\n"
     ]
    }
   ],
   "source": [
    "images_np = image_prep_fct(data)\n",
    "print(images_np.shape)\n",
    "images_np_test = image_prep_fct(data_test)\n",
    "print(images_np_test.shape)\n",
    "\n",
    "batch_size = 32"
   ]
  },
  {
   "cell_type": "code",
   "execution_count": 6,
   "metadata": {},
   "outputs": [
    {
     "data": {
      "text/plain": [
       "array([[1., 0., 0.],\n",
       "       [1., 0., 0.],\n",
       "       [1., 0., 0.],\n",
       "       ...,\n",
       "       [0., 0., 1.],\n",
       "       [0., 0., 1.],\n",
       "       [1., 0., 0.]])"
      ]
     },
     "execution_count": 6,
     "metadata": {},
     "output_type": "execute_result"
    }
   ],
   "source": [
    "X = images_np\n",
    "y = to_categorical(data['label'])\n",
    "\n",
    "X_test = images_np_test\n",
    "y_test = to_categorical(data_test['label'])\n",
    "\n",
    "y"
   ]
  },
  {
   "cell_type": "code",
   "execution_count": 7,
   "metadata": {},
   "outputs": [
    {
     "data": {
      "text/plain": [
       "(271, 224, 224, 3)"
      ]
     },
     "execution_count": 7,
     "metadata": {},
     "output_type": "execute_result"
    }
   ],
   "source": [
    "X_train, X_val, y_train, y_val = train_test_split(X, y, stratify=y, test_size=0.25, random_state=42)\n",
    "X_train.shape"
   ]
  },
  {
   "cell_type": "markdown",
   "metadata": {},
   "source": [
    "### tuning without DA"
   ]
  },
  {
   "cell_type": "code",
   "execution_count": 15,
   "metadata": {},
   "outputs": [
    {
     "name": "stdout",
     "output_type": "stream",
     "text": [
      "Trial 10 Complete [00h 03m 12s]\n",
      "val_accuracy: 0.5384615659713745\n",
      "\n",
      "Best val_accuracy So Far: 0.593406617641449\n",
      "Total elapsed time: 00h 29m 55s\n"
     ]
    },
    {
     "name": "stderr",
     "output_type": "stream",
     "text": [
      "/opt/anaconda3/envs/realboap6/lib/python3.9/site-packages/keras/src/saving/saving_lib.py:576: UserWarning: Skipping variable loading for optimizer 'rmsprop', because it has 2 variables whereas the saved optimizer has 12 variables. \n",
      "  saveable.load_own_variables(weights_store.get(inner_path))\n"
     ]
    }
   ],
   "source": [
    "tuner = RandomSearch(\n",
    "    build_model,\n",
    "    objective='val_accuracy',\n",
    "    max_trials=10,\n",
    "    executions_per_trial=1,\n",
    "    directory='tuner_results_vanilla',\n",
    "    project_name='my_model_without_DA'\n",
    ")\n",
    "\n",
    "batch_size = 32  # Example batch size\n",
    "\n",
    "# Create an instance of ImageDataGenerator without data augmentation\n",
    "datagen = ImageDataGenerator()\n",
    "\n",
    "# Adjust the generators to automatically handle the end of the dataset\n",
    "train_generator = datagen.flow(X_train, y_train, batch_size=batch_size, shuffle=True)\n",
    "val_generator = datagen.flow(X_val, y_val, batch_size=batch_size, shuffle=False)\n",
    "\n",
    "# Remove manual calculation of steps per epoch\n",
    "tuner.search(\n",
    "    train_generator,\n",
    "    epochs=10,  # Adjust the number of epochs according to your needs\n",
    "    validation_data=val_generator\n",
    ")\n",
    "\n",
    "# Get the optimal hyperparameters\n",
    "best_hps = tuner.get_best_hyperparameters(num_trials=1)[0]\n",
    "# Retrieve the best model\n",
    "best_model = tuner.get_best_models(num_models=1)[0]"
   ]
  },
  {
   "cell_type": "code",
   "execution_count": 16,
   "metadata": {},
   "outputs": [
    {
     "name": "stdout",
     "output_type": "stream",
     "text": [
      "Best hyperparameters found:\n",
      "{'conv_1_filters': 64, 'conv_2_filters': 64, 'conv_3_filters': 256, 'dense_units': 32, 'dropout': 0.4, 'optimizer': 'rmsprop', 'learning_rate': 0.0004010402068654687}\n",
      "Results summary\n",
      "Results in tuner_results_vanilla/my_model_without_DA\n",
      "Showing 10 best trials\n",
      "Objective(name=\"val_accuracy\", direction=\"max\")\n",
      "\n",
      "Trial 00 summary\n",
      "Hyperparameters:\n",
      "conv_1_filters: 64\n",
      "conv_2_filters: 64\n",
      "conv_3_filters: 256\n",
      "dense_units: 32\n",
      "dropout: 0.4\n",
      "optimizer: rmsprop\n",
      "learning_rate: 0.0004010402068654687\n",
      "Score: 0.593406617641449\n",
      "\n",
      "Trial 03 summary\n",
      "Hyperparameters:\n",
      "conv_1_filters: 64\n",
      "conv_2_filters: 128\n",
      "conv_3_filters: 128\n",
      "dense_units: 32\n",
      "dropout: 0.0\n",
      "optimizer: rmsprop\n",
      "learning_rate: 0.0009486748327517953\n",
      "Score: 0.593406617641449\n",
      "\n",
      "Trial 01 summary\n",
      "Hyperparameters:\n",
      "conv_1_filters: 32\n",
      "conv_2_filters: 128\n",
      "conv_3_filters: 256\n",
      "dense_units: 64\n",
      "dropout: 0.0\n",
      "optimizer: rmsprop\n",
      "learning_rate: 0.0027494740914787118\n",
      "Score: 0.5714285969734192\n",
      "\n",
      "Trial 06 summary\n",
      "Hyperparameters:\n",
      "conv_1_filters: 64\n",
      "conv_2_filters: 64\n",
      "conv_3_filters: 256\n",
      "dense_units: 96\n",
      "dropout: 0.0\n",
      "optimizer: adam\n",
      "learning_rate: 0.00010497756904456144\n",
      "Score: 0.5714285969734192\n",
      "\n",
      "Trial 09 summary\n",
      "Hyperparameters:\n",
      "conv_1_filters: 64\n",
      "conv_2_filters: 128\n",
      "conv_3_filters: 128\n",
      "dense_units: 32\n",
      "dropout: 0.4\n",
      "optimizer: adam\n",
      "learning_rate: 0.0016624758629326124\n",
      "Score: 0.5384615659713745\n",
      "\n",
      "Trial 02 summary\n",
      "Hyperparameters:\n",
      "conv_1_filters: 64\n",
      "conv_2_filters: 128\n",
      "conv_3_filters: 256\n",
      "dense_units: 32\n",
      "dropout: 0.30000000000000004\n",
      "optimizer: rmsprop\n",
      "learning_rate: 0.00022023203381828493\n",
      "Score: 0.5274725556373596\n",
      "\n",
      "Trial 07 summary\n",
      "Hyperparameters:\n",
      "conv_1_filters: 32\n",
      "conv_2_filters: 64\n",
      "conv_3_filters: 256\n",
      "dense_units: 128\n",
      "dropout: 0.2\n",
      "optimizer: sgd\n",
      "learning_rate: 0.0068114927557705275\n",
      "Score: 0.5164835453033447\n",
      "\n",
      "Trial 04 summary\n",
      "Hyperparameters:\n",
      "conv_1_filters: 64\n",
      "conv_2_filters: 128\n",
      "conv_3_filters: 256\n",
      "dense_units: 96\n",
      "dropout: 0.2\n",
      "optimizer: sgd\n",
      "learning_rate: 0.004075075351817608\n",
      "Score: 0.4615384638309479\n",
      "\n",
      "Trial 08 summary\n",
      "Hyperparameters:\n",
      "conv_1_filters: 32\n",
      "conv_2_filters: 128\n",
      "conv_3_filters: 128\n",
      "dense_units: 64\n",
      "dropout: 0.4\n",
      "optimizer: sgd\n",
      "learning_rate: 0.00021134958304675551\n",
      "Score: 0.35164836049079895\n",
      "\n",
      "Trial 05 summary\n",
      "Hyperparameters:\n",
      "conv_1_filters: 64\n",
      "conv_2_filters: 128\n",
      "conv_3_filters: 128\n",
      "dense_units: 96\n",
      "dropout: 0.30000000000000004\n",
      "optimizer: sgd\n",
      "learning_rate: 0.00020712240848119796\n",
      "Score: 0.32967033982276917\n"
     ]
    }
   ],
   "source": [
    "print(\"Best hyperparameters found:\")\n",
    "print(best_hps.values)\n",
    "\n",
    "# Get a summary of the tuning process\n",
    "tuner.results_summary()\n",
    "\n",
    "# Optionally, save the results to a file\n",
    "results = tuner.oracle.get_best_trials(num_trials=10)\n",
    "results_data = [{'trial_id': t.trial_id, 'score': t.score, **t.hyperparameters.values} for t in results]\n",
    "\n",
    "# Convert to DataFrame for easier manipulation and saving\n",
    "results_df = pd.DataFrame(results_data)\n",
    "\n",
    "# Save to CSV\n",
    "results_df.to_csv('tuning_results_my_model_without_DA.csv', index=False)"
   ]
  },
  {
   "cell_type": "code",
   "execution_count": 22,
   "metadata": {},
   "outputs": [],
   "source": [
    "# Création du modèle\n",
    "with tf.device('/gpu:0'): \n",
    "    model1 = create_model_fct_vanilla()\n",
    "\n",
    "# Specify your desired learning rate\n",
    "learning_rate = 0.0004\n",
    "    \n",
    "optimizer = RMSprop(learning_rate=learning_rate)\n",
    "# Compile the model with the new optimizer\n",
    "model1.compile(loss=\"categorical_crossentropy\", optimizer=optimizer, metrics=[\"accuracy\"])\n",
    "    \n",
    "# Création du callback\n",
    "model1_save_path1 = \"./my_model_without_DA.keras\"\n",
    "checkpoint = ModelCheckpoint(model1_save_path1, monitor='val_loss', verbose=1, save_best_only=True, mode='min', save_weights_only=False)\n",
    "es = EarlyStopping(monitor='val_loss', mode='min', verbose=1, patience=5)\n",
    "callbacks_list = [checkpoint, es]"
   ]
  },
  {
   "cell_type": "code",
   "execution_count": 23,
   "metadata": {},
   "outputs": [
    {
     "name": "stdout",
     "output_type": "stream",
     "text": [
      "Epoch 1/50\n",
      "\u001b[1m9/9\u001b[0m \u001b[32m━━━━━━━━━━━━━━━━━━━━\u001b[0m\u001b[37m\u001b[0m \u001b[1m0s\u001b[0m 1s/step - accuracy: 0.3619 - loss: 1.1309\n",
      "Epoch 1: val_loss improved from inf to 1.06960, saving model to ./my_model_without_DA.keras\n",
      "\u001b[1m9/9\u001b[0m \u001b[32m━━━━━━━━━━━━━━━━━━━━\u001b[0m\u001b[37m\u001b[0m \u001b[1m12s\u001b[0m 1s/step - accuracy: 0.3622 - loss: 1.1297 - val_accuracy: 0.4286 - val_loss: 1.0696\n",
      "Epoch 2/50\n",
      "\u001b[1m9/9\u001b[0m \u001b[32m━━━━━━━━━━━━━━━━━━━━\u001b[0m\u001b[37m\u001b[0m \u001b[1m0s\u001b[0m 1s/step - accuracy: 0.4388 - loss: 1.0793\n",
      "Epoch 2: val_loss did not improve from 1.06960\n",
      "\u001b[1m9/9\u001b[0m \u001b[32m━━━━━━━━━━━━━━━━━━━━\u001b[0m\u001b[37m\u001b[0m \u001b[1m12s\u001b[0m 1s/step - accuracy: 0.4367 - loss: 1.0795 - val_accuracy: 0.3736 - val_loss: 1.0736\n",
      "Epoch 3/50\n",
      "\u001b[1m9/9\u001b[0m \u001b[32m━━━━━━━━━━━━━━━━━━━━\u001b[0m\u001b[37m\u001b[0m \u001b[1m0s\u001b[0m 1s/step - accuracy: 0.3545 - loss: 1.0767\n",
      "Epoch 3: val_loss improved from 1.06960 to 1.04367, saving model to ./my_model_without_DA.keras\n",
      "\u001b[1m9/9\u001b[0m \u001b[32m━━━━━━━━━━━━━━━━━━━━\u001b[0m\u001b[37m\u001b[0m \u001b[1m15s\u001b[0m 2s/step - accuracy: 0.3574 - loss: 1.0765 - val_accuracy: 0.4066 - val_loss: 1.0437\n",
      "Epoch 4/50\n",
      "\u001b[1m9/9\u001b[0m \u001b[32m━━━━━━━━━━━━━━━━━━━━\u001b[0m\u001b[37m\u001b[0m \u001b[1m0s\u001b[0m 1s/step - accuracy: 0.4516 - loss: 1.0620\n",
      "Epoch 4: val_loss improved from 1.04367 to 1.00913, saving model to ./my_model_without_DA.keras\n",
      "\u001b[1m9/9\u001b[0m \u001b[32m━━━━━━━━━━━━━━━━━━━━\u001b[0m\u001b[37m\u001b[0m \u001b[1m13s\u001b[0m 1s/step - accuracy: 0.4507 - loss: 1.0625 - val_accuracy: 0.5165 - val_loss: 1.0091\n",
      "Epoch 5/50\n",
      "\u001b[1m9/9\u001b[0m \u001b[32m━━━━━━━━━━━━━━━━━━━━\u001b[0m\u001b[37m\u001b[0m \u001b[1m0s\u001b[0m 1s/step - accuracy: 0.4474 - loss: 1.0468\n",
      "Epoch 5: val_loss improved from 1.00913 to 0.99098, saving model to ./my_model_without_DA.keras\n",
      "\u001b[1m9/9\u001b[0m \u001b[32m━━━━━━━━━━━━━━━━━━━━\u001b[0m\u001b[37m\u001b[0m \u001b[1m13s\u001b[0m 1s/step - accuracy: 0.4473 - loss: 1.0484 - val_accuracy: 0.5055 - val_loss: 0.9910\n",
      "Epoch 6/50\n",
      "\u001b[1m9/9\u001b[0m \u001b[32m━━━━━━━━━━━━━━━━━━━━\u001b[0m\u001b[37m\u001b[0m \u001b[1m0s\u001b[0m 2s/step - accuracy: 0.3807 - loss: 1.0829\n",
      "Epoch 6: val_loss did not improve from 0.99098\n",
      "\u001b[1m9/9\u001b[0m \u001b[32m━━━━━━━━━━━━━━━━━━━━\u001b[0m\u001b[37m\u001b[0m \u001b[1m16s\u001b[0m 2s/step - accuracy: 0.3840 - loss: 1.0809 - val_accuracy: 0.5165 - val_loss: 1.0061\n",
      "Epoch 7/50\n",
      "\u001b[1m9/9\u001b[0m \u001b[32m━━━━━━━━━━━━━━━━━━━━\u001b[0m\u001b[37m\u001b[0m \u001b[1m0s\u001b[0m 1s/step - accuracy: 0.4779 - loss: 1.0451\n",
      "Epoch 7: val_loss did not improve from 0.99098\n",
      "\u001b[1m9/9\u001b[0m \u001b[32m━━━━━━━━━━━━━━━━━━━━\u001b[0m\u001b[37m\u001b[0m \u001b[1m12s\u001b[0m 1s/step - accuracy: 0.4766 - loss: 1.0454 - val_accuracy: 0.5495 - val_loss: 0.9946\n",
      "Epoch 8/50\n",
      "\u001b[1m9/9\u001b[0m \u001b[32m━━━━━━━━━━━━━━━━━━━━\u001b[0m\u001b[37m\u001b[0m \u001b[1m0s\u001b[0m 1s/step - accuracy: 0.4041 - loss: 1.0451\n",
      "Epoch 8: val_loss improved from 0.99098 to 0.97940, saving model to ./my_model_without_DA.keras\n",
      "\u001b[1m9/9\u001b[0m \u001b[32m━━━━━━━━━━━━━━━━━━━━\u001b[0m\u001b[37m\u001b[0m \u001b[1m13s\u001b[0m 1s/step - accuracy: 0.4061 - loss: 1.0453 - val_accuracy: 0.5385 - val_loss: 0.9794\n",
      "Epoch 9/50\n",
      "\u001b[1m9/9\u001b[0m \u001b[32m━━━━━━━━━━━━━━━━━━━━\u001b[0m\u001b[37m\u001b[0m \u001b[1m0s\u001b[0m 2s/step - accuracy: 0.4890 - loss: 1.0247\n",
      "Epoch 9: val_loss improved from 0.97940 to 0.96979, saving model to ./my_model_without_DA.keras\n",
      "\u001b[1m9/9\u001b[0m \u001b[32m━━━━━━━━━━━━━━━━━━━━\u001b[0m\u001b[37m\u001b[0m \u001b[1m15s\u001b[0m 2s/step - accuracy: 0.4922 - loss: 1.0238 - val_accuracy: 0.5055 - val_loss: 0.9698\n",
      "Epoch 10/50\n",
      "\u001b[1m9/9\u001b[0m \u001b[32m━━━━━━━━━━━━━━━━━━━━\u001b[0m\u001b[37m\u001b[0m \u001b[1m0s\u001b[0m 1s/step - accuracy: 0.4489 - loss: 1.0139\n",
      "Epoch 10: val_loss improved from 0.96979 to 0.96956, saving model to ./my_model_without_DA.keras\n",
      "\u001b[1m9/9\u001b[0m \u001b[32m━━━━━━━━━━━━━━━━━━━━\u001b[0m\u001b[37m\u001b[0m \u001b[1m13s\u001b[0m 1s/step - accuracy: 0.4472 - loss: 1.0157 - val_accuracy: 0.5934 - val_loss: 0.9696\n",
      "Epoch 11/50\n",
      "\u001b[1m9/9\u001b[0m \u001b[32m━━━━━━━━━━━━━━━━━━━━\u001b[0m\u001b[37m\u001b[0m \u001b[1m0s\u001b[0m 1s/step - accuracy: 0.5544 - loss: 1.0069\n",
      "Epoch 11: val_loss improved from 0.96956 to 0.95306, saving model to ./my_model_without_DA.keras\n",
      "\u001b[1m9/9\u001b[0m \u001b[32m━━━━━━━━━━━━━━━━━━━━\u001b[0m\u001b[37m\u001b[0m \u001b[1m13s\u001b[0m 1s/step - accuracy: 0.5495 - loss: 1.0068 - val_accuracy: 0.4945 - val_loss: 0.9531\n",
      "Epoch 12/50\n",
      "\u001b[1m9/9\u001b[0m \u001b[32m━━━━━━━━━━━━━━━━━━━━\u001b[0m\u001b[37m\u001b[0m \u001b[1m0s\u001b[0m 1s/step - accuracy: 0.4554 - loss: 1.0280\n",
      "Epoch 12: val_loss did not improve from 0.95306\n",
      "\u001b[1m9/9\u001b[0m \u001b[32m━━━━━━━━━━━━━━━━━━━━\u001b[0m\u001b[37m\u001b[0m \u001b[1m14s\u001b[0m 2s/step - accuracy: 0.4538 - loss: 1.0290 - val_accuracy: 0.5934 - val_loss: 0.9593\n",
      "Epoch 13/50\n",
      "\u001b[1m9/9\u001b[0m \u001b[32m━━━━━━━━━━━━━━━━━━━━\u001b[0m\u001b[37m\u001b[0m \u001b[1m0s\u001b[0m 1s/step - accuracy: 0.5067 - loss: 1.0016\n",
      "Epoch 13: val_loss did not improve from 0.95306\n",
      "\u001b[1m9/9\u001b[0m \u001b[32m━━━━━━━━━━━━━━━━━━━━\u001b[0m\u001b[37m\u001b[0m \u001b[1m13s\u001b[0m 1s/step - accuracy: 0.5073 - loss: 1.0020 - val_accuracy: 0.5055 - val_loss: 0.9685\n",
      "Epoch 14/50\n",
      "\u001b[1m9/9\u001b[0m \u001b[32m━━━━━━━━━━━━━━━━━━━━\u001b[0m\u001b[37m\u001b[0m \u001b[1m0s\u001b[0m 1s/step - accuracy: 0.5099 - loss: 0.9727\n",
      "Epoch 14: val_loss did not improve from 0.95306\n",
      "\u001b[1m9/9\u001b[0m \u001b[32m━━━━━━━━━━━━━━━━━━━━\u001b[0m\u001b[37m\u001b[0m \u001b[1m13s\u001b[0m 1s/step - accuracy: 0.5083 - loss: 0.9748 - val_accuracy: 0.5824 - val_loss: 0.9534\n",
      "Epoch 15/50\n",
      "\u001b[1m9/9\u001b[0m \u001b[32m━━━━━━━━━━━━━━━━━━━━\u001b[0m\u001b[37m\u001b[0m \u001b[1m0s\u001b[0m 2s/step - accuracy: 0.4047 - loss: 1.0336\n",
      "Epoch 15: val_loss did not improve from 0.95306\n",
      "\u001b[1m9/9\u001b[0m \u001b[32m━━━━━━━━━━━━━━━━━━━━\u001b[0m\u001b[37m\u001b[0m \u001b[1m15s\u001b[0m 2s/step - accuracy: 0.4103 - loss: 1.0323 - val_accuracy: 0.5495 - val_loss: 0.9540\n",
      "Epoch 16/50\n",
      "\u001b[1m9/9\u001b[0m \u001b[32m━━━━━━━━━━━━━━━━━━━━\u001b[0m\u001b[37m\u001b[0m \u001b[1m0s\u001b[0m 1s/step - accuracy: 0.4487 - loss: 1.0006\n",
      "Epoch 16: val_loss improved from 0.95306 to 0.92518, saving model to ./my_model_without_DA.keras\n",
      "\u001b[1m9/9\u001b[0m \u001b[32m━━━━━━━━━━━━━━━━━━━━\u001b[0m\u001b[37m\u001b[0m \u001b[1m14s\u001b[0m 2s/step - accuracy: 0.4507 - loss: 1.0000 - val_accuracy: 0.5495 - val_loss: 0.9252\n",
      "Epoch 17/50\n",
      "\u001b[1m9/9\u001b[0m \u001b[32m━━━━━━━━━━━━━━━━━━━━\u001b[0m\u001b[37m\u001b[0m \u001b[1m0s\u001b[0m 2s/step - accuracy: 0.4695 - loss: 1.0504\n",
      "Epoch 17: val_loss did not improve from 0.92518\n",
      "\u001b[1m9/9\u001b[0m \u001b[32m━━━━━━━━━━━━━━━━━━━━\u001b[0m\u001b[37m\u001b[0m \u001b[1m15s\u001b[0m 2s/step - accuracy: 0.4720 - loss: 1.0482 - val_accuracy: 0.5385 - val_loss: 0.9352\n",
      "Epoch 18/50\n",
      "\u001b[1m9/9\u001b[0m \u001b[32m━━━━━━━━━━━━━━━━━━━━\u001b[0m\u001b[37m\u001b[0m \u001b[1m0s\u001b[0m 2s/step - accuracy: 0.5072 - loss: 0.9943\n",
      "Epoch 18: val_loss improved from 0.92518 to 0.92274, saving model to ./my_model_without_DA.keras\n",
      "\u001b[1m9/9\u001b[0m \u001b[32m━━━━━━━━━━━━━━━━━━━━\u001b[0m\u001b[37m\u001b[0m \u001b[1m17s\u001b[0m 2s/step - accuracy: 0.5071 - loss: 0.9962 - val_accuracy: 0.5934 - val_loss: 0.9227\n",
      "Epoch 19/50\n",
      "\u001b[1m9/9\u001b[0m \u001b[32m━━━━━━━━━━━━━━━━━━━━\u001b[0m\u001b[37m\u001b[0m \u001b[1m0s\u001b[0m 2s/step - accuracy: 0.5371 - loss: 0.9795\n",
      "Epoch 19: val_loss did not improve from 0.92274\n",
      "\u001b[1m9/9\u001b[0m \u001b[32m━━━━━━━━━━━━━━━━━━━━\u001b[0m\u001b[37m\u001b[0m \u001b[1m16s\u001b[0m 2s/step - accuracy: 0.5347 - loss: 0.9819 - val_accuracy: 0.6044 - val_loss: 0.9347\n",
      "Epoch 20/50\n",
      "\u001b[1m9/9\u001b[0m \u001b[32m━━━━━━━━━━━━━━━━━━━━\u001b[0m\u001b[37m\u001b[0m \u001b[1m0s\u001b[0m 2s/step - accuracy: 0.4910 - loss: 0.9738\n",
      "Epoch 20: val_loss did not improve from 0.92274\n",
      "\u001b[1m9/9\u001b[0m \u001b[32m━━━━━━━━━━━━━━━━━━━━\u001b[0m\u001b[37m\u001b[0m \u001b[1m19s\u001b[0m 2s/step - accuracy: 0.4898 - loss: 0.9771 - val_accuracy: 0.5824 - val_loss: 0.9454\n",
      "Epoch 21/50\n",
      "\u001b[1m9/9\u001b[0m \u001b[32m━━━━━━━━━━━━━━━━━━━━\u001b[0m\u001b[37m\u001b[0m \u001b[1m0s\u001b[0m 2s/step - accuracy: 0.4973 - loss: 0.9949\n",
      "Epoch 21: val_loss did not improve from 0.92274\n",
      "\u001b[1m9/9\u001b[0m \u001b[32m━━━━━━━━━━━━━━━━━━━━\u001b[0m\u001b[37m\u001b[0m \u001b[1m17s\u001b[0m 2s/step - accuracy: 0.4948 - loss: 0.9960 - val_accuracy: 0.5385 - val_loss: 0.9431\n",
      "Epoch 22/50\n",
      "\u001b[1m9/9\u001b[0m \u001b[32m━━━━━━━━━━━━━━━━━━━━\u001b[0m\u001b[37m\u001b[0m \u001b[1m0s\u001b[0m 2s/step - accuracy: 0.4901 - loss: 0.9801\n",
      "Epoch 22: val_loss did not improve from 0.92274\n",
      "\u001b[1m9/9\u001b[0m \u001b[32m━━━━━━━━━━━━━━━━━━━━\u001b[0m\u001b[37m\u001b[0m \u001b[1m17s\u001b[0m 2s/step - accuracy: 0.4902 - loss: 0.9820 - val_accuracy: 0.6374 - val_loss: 0.9251\n",
      "Epoch 23/50\n",
      "\u001b[1m9/9\u001b[0m \u001b[32m━━━━━━━━━━━━━━━━━━━━\u001b[0m\u001b[37m\u001b[0m \u001b[1m0s\u001b[0m 2s/step - accuracy: 0.5251 - loss: 0.9570\n",
      "Epoch 23: val_loss did not improve from 0.92274\n",
      "\u001b[1m9/9\u001b[0m \u001b[32m━━━━━━━━━━━━━━━━━━━━\u001b[0m\u001b[37m\u001b[0m \u001b[1m20s\u001b[0m 2s/step - accuracy: 0.5268 - loss: 0.9590 - val_accuracy: 0.5824 - val_loss: 0.9265\n",
      "Epoch 23: early stopping\n"
     ]
    }
   ],
   "source": [
    "# Entraîner sur les données d'entraînement (X_train, y_train)\n",
    "with tf.device('/gpu:0'): \n",
    "    history1 = model1.fit(X_train, y_train, epochs=50, batch_size=32, \n",
    "                       callbacks=callbacks_list, validation_data=(X_val, y_val), verbose=1)"
   ]
  },
  {
   "cell_type": "code",
   "execution_count": 24,
   "metadata": {},
   "outputs": [
    {
     "name": "stdout",
     "output_type": "stream",
     "text": [
      "\u001b[1m9/9\u001b[0m \u001b[32m━━━━━━━━━━━━━━━━━━━━\u001b[0m\u001b[37m\u001b[0m \u001b[1m3s\u001b[0m 363ms/step - accuracy: 0.5535 - loss: 0.9532\n",
      "Training Accuracy: 0.5720\n",
      "Training Loss    : 0.9540\n",
      "\n",
      "\u001b[1m3/3\u001b[0m \u001b[32m━━━━━━━━━━━━━━━━━━━━\u001b[0m\u001b[37m\u001b[0m \u001b[1m1s\u001b[0m 423ms/step - accuracy: 0.5529 - loss: 0.9334\n",
      "Validation Accuracy:  0.5824\n",
      "Validation Loss    : 0.9265\n"
     ]
    }
   ],
   "source": [
    "# Score du dernier epoch\n",
    "\n",
    "loss, accuracy = model1.evaluate(X_train, y_train, verbose=True)\n",
    "print(\"Training Accuracy: {:.4f}\".format(accuracy))\n",
    "print(\"Training Loss    : {:.4f}\".format(loss))\n",
    "print()\n",
    "loss, accuracy = model1.evaluate(X_val, y_val, verbose=True)\n",
    "print(\"Validation Accuracy:  {:.4f}\".format(accuracy))\n",
    "print(\"Validation Loss    : {:.4f}\".format(loss))"
   ]
  },
  {
   "cell_type": "code",
   "execution_count": 25,
   "metadata": {},
   "outputs": [
    {
     "name": "stdout",
     "output_type": "stream",
     "text": [
      "Validation Accuracy :  0.5934\n",
      "Validation Loss     :  0.9227\n",
      "Test Accuracy       :  0.5055\n",
      "Test Loss           :  0.9655\n"
     ]
    }
   ],
   "source": [
    "# Score de l'epoch optimal\n",
    "\n",
    "model1.load_weights(model1_save_path1)\n",
    "\n",
    "loss, accuracy = model1.evaluate(X_val, y_val, verbose=False)\n",
    "print(\"Validation Accuracy :  {:.4f}\".format(accuracy))\n",
    "print(\"Validation Loss     :  {:.4f}\".format(loss))\n",
    "\n",
    "loss, accuracy = model1.evaluate(X_test, y_test, verbose=False)\n",
    "print(\"Test Accuracy       :  {:.4f}\".format(accuracy))\n",
    "print(\"Test Loss           :  {:.4f}\".format(loss))\n"
   ]
  },
  {
   "cell_type": "code",
   "execution_count": 26,
   "metadata": {},
   "outputs": [
    {
     "data": {
      "image/png": "[encoded data removed]",
      "text/plain": [
       "<Figure size 1000x500 with 2 Axes>"
      ]
     },
     "metadata": {},
     "output_type": "display_data"
    }
   ],
   "source": [
    "show_history(history1)\n",
    "plot_history(history1, path=\"standard.png\")\n",
    "plt.close()"
   ]
  },
  {
   "cell_type": "code",
   "execution_count": 27,
   "metadata": {},
   "outputs": [
    {
     "name": "stdout",
     "output_type": "stream",
     "text": [
      "\u001b[1m3/3\u001b[0m \u001b[32m━━━━━━━━━━━━━━━━━━━━\u001b[0m\u001b[37m\u001b[0m \u001b[1m1s\u001b[0m 345ms/step\n",
      "[2 2 0 1 1 1 0 0 1 1 0 0 0 0 1 2 1 2 0 1 2 0 2 0 0 0 0 0 1 2 0 1 2 0 0 2 2\n",
      " 2 0 1 1 1 0 2 0 1 1 2 2 0 0 2 1 0 2 2 2 0 2 2 2 0 1 1 2 1 2 2 1 0 2 1 2 2\n",
      " 1 0 2 1 1 0 1 1 1 1 2 1 1 1 2 0 1]\n",
      "\n",
      "[1 2 2 1 1 1 2 2 1 1 1 2 0 1 1 0 1 1 2 1 1 2 0 1 2 0 2 0 2 2 0 1 2 2 1 2 2\n",
      " 1 2 1 1 1 0 2 0 2 1 2 2 2 2 2 1 0 1 2 1 1 2 0 2 1 1 1 2 0 1 2 1 2 0 1 1 2\n",
      " 1 0 2 1 1 1 1 1 1 1 2 1 1 1 2 1 2]\n"
     ]
    }
   ],
   "source": [
    "y_val_num = np.argmax(y_val, axis=1)\n",
    "y_val_pred = np.argmax(model1.predict(X_val), axis=1)\n",
    "print(y_val_num)\n",
    "print()\n",
    "print(y_val_pred)"
   ]
  },
  {
   "cell_type": "code",
   "execution_count": 28,
   "metadata": {},
   "outputs": [
    {
     "name": "stdout",
     "output_type": "stream",
     "text": [
      "[[ 8  8 13]\n",
      " [ 1 28  3]\n",
      " [ 4  8 18]]\n"
     ]
    }
   ],
   "source": [
    "conf_mat = metrics.confusion_matrix(y_val_num, y_val_pred)\n",
    "print(conf_mat)"
   ]
  },
  {
   "cell_type": "code",
   "execution_count": 29,
   "metadata": {},
   "outputs": [
    {
     "name": "stdout",
     "output_type": "stream",
     "text": [
      "Correspondance des clusters :  [0 1 2]\n",
      "[[ 8  8 13]\n",
      " [ 1 28  3]\n",
      " [ 4  8 18]]\n",
      "\n",
      "              precision    recall  f1-score   support\n",
      "\n",
      "           0       0.62      0.28      0.38        29\n",
      "           1       0.64      0.88      0.74        32\n",
      "           2       0.53      0.60      0.56        30\n",
      "\n",
      "    accuracy                           0.59        91\n",
      "   macro avg       0.59      0.58      0.56        91\n",
      "weighted avg       0.59      0.59      0.57        91\n",
      "\n"
     ]
    }
   ],
   "source": [
    "y_val_pred_transform = conf_mat_transform(y_val_num, y_val_pred)\n",
    "conf_mat = metrics.confusion_matrix(y_val_num, y_val_pred_transform)\n",
    "print(conf_mat)\n",
    "print()\n",
    "print(metrics.classification_report(y_val_num, y_val_pred_transform))"
   ]
  },
  {
   "cell_type": "code",
   "execution_count": 30,
   "metadata": {},
   "outputs": [
    {
     "data": {
      "text/plain": [
       "<Axes: >"
      ]
     },
     "execution_count": 30,
     "metadata": {},
     "output_type": "execute_result"
    },
    {
     "data": {
      "image/png": "[encoded data removed]",
      "text/plain": [
       "<Figure size 600x400 with 2 Axes>"
      ]
     },
     "metadata": {},
     "output_type": "display_data"
    }
   ],
   "source": [
    "df_cm = pd.DataFrame(conf_mat, index = [label for label in list_labels],\n",
    "                  columns = [i for i in \"012\"])\n",
    "plt.figure(figsize = (6,4))\n",
    "sns.heatmap(df_cm, annot=True, cmap=\"Blues\")"
   ]
  },
  {
   "cell_type": "markdown",
   "metadata": {},
   "source": [
    "# modele non pre entrainé avec data augmentation"
   ]
  },
  {
   "cell_type": "code",
   "execution_count": 56,
   "metadata": {},
   "outputs": [],
   "source": [
    "# Pour mélanger les images, classées initalement par classe\n",
    "data = data.sample(frac=1, random_state=42).reset_index(drop=True)\n"
   ]
  },
  {
   "cell_type": "code",
   "execution_count": 99,
   "metadata": {},
   "outputs": [],
   "source": [
    "def data_flow_fct(data, datagen, data_type=None, shuffle=None):\n",
    "    data_flow = datagen.flow_from_dataframe(\n",
    "        dataframe=data,            # Pass the dataframe containing the data\n",
    "        directory='',              # Directory is set to '' as paths are in dataframe\n",
    "        x_col='image_path',        # Column in dataframe with image paths\n",
    "        y_col='label_name',        # Column in dataframe with labels\n",
    "        target_size=(224, 224),    # Target size for resizing images\n",
    "        class_mode='categorical',  # Use 'categorical' for multi-class classification\n",
    "        batch_size=batch_size,     # Batch size for the data flow\n",
    "        shuffle=shuffle,              # Shuffle the data\n",
    "        seed=42,                   # Seed for reproducibility\n",
    "        subset=data_type           # Pass 'training' or 'validation' to subset\n",
    "    )\n",
    "    return data_flow"
   ]
  },
  {
   "cell_type": "code",
   "execution_count": 105,
   "metadata": {},
   "outputs": [
    {
     "name": "stdout",
     "output_type": "stream",
     "text": [
      "Found 272 validated image filenames belonging to 3 classes.\n",
      "Found 90 validated image filenames belonging to 3 classes.\n",
      "Found 91 validated image filenames belonging to 3 classes.\n"
     ]
    }
   ],
   "source": [
    "# Define batch size\n",
    "batch_size = 32  # Adjust this value as needed\n",
    "\n",
    "# Create an instance of ImageDataGenerator with augmentation for training\n",
    "datagen_train = ImageDataGenerator(\n",
    "    rotation_range=20,\n",
    "    width_shift_range=0.2,\n",
    "    height_shift_range=0.2,\n",
    "    horizontal_flip=True,\n",
    "    validation_split=0.25,  # Split 25% of the data for validation\n",
    "    preprocessing_function=custom_preprocess\n",
    ")\n",
    "\n",
    "# Create training and validation data flows\n",
    "train_flow = data_flow_fct(data, datagen_train, data_type='training', shuffle=True)\n",
    "val_flow = data_flow_fct(data, datagen_train, data_type='validation', shuffle=True)\n",
    "\n",
    "# Create an instance of ImageDataGenerator without augmentation for testing\n",
    "datagen_test = ImageDataGenerator(\n",
    "    preprocessing_function=custom_preprocess\n",
    ")\n",
    "\n",
    "# Create test data flow\n",
    "test_flow = data_flow_fct(data_test, datagen_test, data_type=None, shuffle=False)"
   ]
  },
  {
   "cell_type": "code",
   "execution_count": 61,
   "metadata": {},
   "outputs": [
    {
     "name": "stdout",
     "output_type": "stream",
     "text": [
      "Trial 10 Complete [00h 04m 58s]\n",
      "val_accuracy: 0.5111111402511597\n",
      "\n",
      "Best val_accuracy So Far: 0.5777778029441833\n",
      "Total elapsed time: 00h 32m 39s\n"
     ]
    },
    {
     "name": "stderr",
     "output_type": "stream",
     "text": [
      "/opt/anaconda3/envs/realboap6/lib/python3.9/site-packages/keras/src/saving/saving_lib.py:576: UserWarning: Skipping variable loading for optimizer 'rmsprop', because it has 2 variables whereas the saved optimizer has 12 variables. \n",
      "  saveable.load_own_variables(weights_store.get(inner_path))\n"
     ]
    }
   ],
   "source": [
    "tuner = RandomSearch(\n",
    "    build_model,\n",
    "    objective='val_accuracy',\n",
    "    max_trials=10,\n",
    "    executions_per_trial=1,\n",
    "    directory='tuner_results_vanilla',\n",
    "    project_name='my_model_tuning_with_DA',\n",
    ")\n",
    "\n",
    "# Start the hyperparameter search\n",
    "tuner.search(\n",
    "    train_flow,\n",
    "    epochs=10,  # Adjust the number of epochs according to your needs\n",
    "    validation_data=val_flow\n",
    ")\n",
    "\n",
    "# Get the optimal hyperparameters\n",
    "best_hps = tuner.get_best_hyperparameters(num_trials=1)[0]\n",
    "# Retrieve the best model\n",
    "best_model = tuner.get_best_models(num_models=1)[0]"
   ]
  },
  {
   "cell_type": "code",
   "execution_count": 62,
   "metadata": {},
   "outputs": [
    {
     "name": "stdout",
     "output_type": "stream",
     "text": [
      "Best hyperparameters found:\n",
      "{'conv_1_filters': 32, 'conv_2_filters': 64, 'conv_3_filters': 128, 'dense_units': 128, 'dropout': 0.30000000000000004, 'optimizer': 'rmsprop', 'learning_rate': 0.002728096254233701}\n",
      "Results summary\n",
      "Results in tuner_results_vanilla/my_model_tuning_with_DA\n",
      "Showing 10 best trials\n",
      "Objective(name=\"val_accuracy\", direction=\"max\")\n",
      "\n",
      "Trial 02 summary\n",
      "Hyperparameters:\n",
      "conv_1_filters: 32\n",
      "conv_2_filters: 64\n",
      "conv_3_filters: 128\n",
      "dense_units: 128\n",
      "dropout: 0.30000000000000004\n",
      "optimizer: rmsprop\n",
      "learning_rate: 0.002728096254233701\n",
      "Score: 0.5777778029441833\n",
      "\n",
      "Trial 07 summary\n",
      "Hyperparameters:\n",
      "conv_1_filters: 32\n",
      "conv_2_filters: 64\n",
      "conv_3_filters: 128\n",
      "dense_units: 32\n",
      "dropout: 0.1\n",
      "optimizer: adam\n",
      "learning_rate: 0.0014796448394755802\n",
      "Score: 0.5666666626930237\n",
      "\n",
      "Trial 09 summary\n",
      "Hyperparameters:\n",
      "conv_1_filters: 64\n",
      "conv_2_filters: 64\n",
      "conv_3_filters: 256\n",
      "dense_units: 128\n",
      "dropout: 0.4\n",
      "optimizer: adam\n",
      "learning_rate: 0.0005162885734768005\n",
      "Score: 0.5111111402511597\n",
      "\n",
      "Trial 01 summary\n",
      "Hyperparameters:\n",
      "conv_1_filters: 32\n",
      "conv_2_filters: 64\n",
      "conv_3_filters: 256\n",
      "dense_units: 96\n",
      "dropout: 0.2\n",
      "optimizer: rmsprop\n",
      "learning_rate: 0.008522508164930664\n",
      "Score: 0.5\n",
      "\n",
      "Trial 00 summary\n",
      "Hyperparameters:\n",
      "conv_1_filters: 32\n",
      "conv_2_filters: 128\n",
      "conv_3_filters: 256\n",
      "dense_units: 96\n",
      "dropout: 0.2\n",
      "optimizer: adam\n",
      "learning_rate: 0.0004620103367161398\n",
      "Score: 0.4888888895511627\n",
      "\n",
      "Trial 06 summary\n",
      "Hyperparameters:\n",
      "conv_1_filters: 64\n",
      "conv_2_filters: 64\n",
      "conv_3_filters: 128\n",
      "dense_units: 32\n",
      "dropout: 0.2\n",
      "optimizer: adam\n",
      "learning_rate: 0.0017010977253402633\n",
      "Score: 0.4888888895511627\n",
      "\n",
      "Trial 03 summary\n",
      "Hyperparameters:\n",
      "conv_1_filters: 64\n",
      "conv_2_filters: 64\n",
      "conv_3_filters: 128\n",
      "dense_units: 96\n",
      "dropout: 0.30000000000000004\n",
      "optimizer: adam\n",
      "learning_rate: 0.0001845579352262816\n",
      "Score: 0.4555555582046509\n",
      "\n",
      "Trial 04 summary\n",
      "Hyperparameters:\n",
      "conv_1_filters: 64\n",
      "conv_2_filters: 128\n",
      "conv_3_filters: 256\n",
      "dense_units: 32\n",
      "dropout: 0.30000000000000004\n",
      "optimizer: sgd\n",
      "learning_rate: 0.007518640049262597\n",
      "Score: 0.41111111640930176\n",
      "\n",
      "Trial 05 summary\n",
      "Hyperparameters:\n",
      "conv_1_filters: 32\n",
      "conv_2_filters: 128\n",
      "conv_3_filters: 128\n",
      "dense_units: 96\n",
      "dropout: 0.4\n",
      "optimizer: adam\n",
      "learning_rate: 0.00892879339836686\n",
      "Score: 0.31111112236976624\n",
      "\n",
      "Trial 08 summary\n",
      "Hyperparameters:\n",
      "conv_1_filters: 32\n",
      "conv_2_filters: 64\n",
      "conv_3_filters: 256\n",
      "dense_units: 64\n",
      "dropout: 0.30000000000000004\n",
      "optimizer: sgd\n",
      "learning_rate: 0.00014379196954005186\n",
      "Score: 0.31111112236976624\n"
     ]
    }
   ],
   "source": [
    "print(\"Best hyperparameters found:\")\n",
    "print(best_hps.values)\n",
    "\n",
    "# Get a summary of the tuning process\n",
    "tuner.results_summary()\n",
    "\n",
    "# Optionally, save the results to a file\n",
    "results = tuner.oracle.get_best_trials(num_trials=10)\n",
    "results_data = [{'trial_id': t.trial_id, 'score': t.score, **t.hyperparameters.values} for t in results]\n",
    "\n",
    "# Convert to DataFrame for easier manipulation and saving\n",
    "import pandas as pd\n",
    "results_df = pd.DataFrame(results_data)\n",
    "\n",
    "# Save to CSV\n",
    "results_df.to_csv('tuning_results_vanilla_with_DA.csv', index=False)"
   ]
  },
  {
   "cell_type": "code",
   "execution_count": 68,
   "metadata": {},
   "outputs": [],
   "source": [
    "# Specify your desired learning rate\n",
    "learning_rate = 0.002\n",
    "\n",
    "# Création du modèle\n",
    "with tf.device('/gpu:0'): \n",
    "    my_model = create_model_fct_vanilla()\n",
    "\n",
    "    #optimizer = RMSprop(learning_rate=learning_rate)\n",
    "    optimizer = RMSprop(learning_rate=learning_rate)\n",
    "    # Compile the model with the new optimizer\n",
    "    my_model.compile(loss=\"categorical_crossentropy\", optimizer=optimizer, metrics=[\"accuracy\"])\n",
    "\n",
    "# Création du callback\n",
    "my_model_save_path = \"./my_model_with_DA.keras\"\n",
    "checkpoint = ModelCheckpoint(my_model_save_path, monitor='val_loss', verbose=1, save_best_only=True, mode='min', save_weights_only=False)\n",
    "es = EarlyStopping(monitor='val_loss', mode='min', verbose=1, patience=5)\n",
    "callbacks_list = [checkpoint, es]"
   ]
  },
  {
   "cell_type": "code",
   "execution_count": 69,
   "metadata": {},
   "outputs": [
    {
     "name": "stdout",
     "output_type": "stream",
     "text": [
      "Epoch 1/50\n",
      "\u001b[1m9/9\u001b[0m \u001b[32m━━━━━━━━━━━━━━━━━━━━\u001b[0m\u001b[37m\u001b[0m \u001b[1m0s\u001b[0m 1s/step - accuracy: 0.3740 - loss: 1.1240\n",
      "Epoch 1: val_loss improved from inf to 1.07543, saving model to ./my_model_with_DA.keras\n",
      "\u001b[1m9/9\u001b[0m \u001b[32m━━━━━━━━━━━━━━━━━━━━\u001b[0m\u001b[37m\u001b[0m \u001b[1m19s\u001b[0m 2s/step - accuracy: 0.3737 - loss: 1.1228 - val_accuracy: 0.3889 - val_loss: 1.0754\n",
      "Epoch 2/50\n",
      "\u001b[1m9/9\u001b[0m \u001b[32m━━━━━━━━━━━━━━━━━━━━\u001b[0m\u001b[37m\u001b[0m \u001b[1m0s\u001b[0m 1s/step - accuracy: 0.3971 - loss: 1.0844\n",
      "Epoch 2: val_loss improved from 1.07543 to 1.05022, saving model to ./my_model_with_DA.keras\n",
      "\u001b[1m9/9\u001b[0m \u001b[32m━━━━━━━━━━━━━━━━━━━━\u001b[0m\u001b[37m\u001b[0m \u001b[1m16s\u001b[0m 2s/step - accuracy: 0.4001 - loss: 1.0839 - val_accuracy: 0.3889 - val_loss: 1.0502\n",
      "Epoch 3/50\n",
      "\u001b[1m9/9\u001b[0m \u001b[32m━━━━━━━━━━━━━━━━━━━━\u001b[0m\u001b[37m\u001b[0m \u001b[1m0s\u001b[0m 1s/step - accuracy: 0.4480 - loss: 1.0732\n",
      "Epoch 3: val_loss did not improve from 1.05022\n",
      "\u001b[1m9/9\u001b[0m \u001b[32m━━━━━━━━━━━━━━━━━━━━\u001b[0m\u001b[37m\u001b[0m \u001b[1m16s\u001b[0m 2s/step - accuracy: 0.4524 - loss: 1.0697 - val_accuracy: 0.3889 - val_loss: 1.0586\n",
      "Epoch 4/50\n",
      "\u001b[1m9/9\u001b[0m \u001b[32m━━━━━━━━━━━━━━━━━━━━\u001b[0m\u001b[37m\u001b[0m \u001b[1m0s\u001b[0m 1s/step - accuracy: 0.4834 - loss: 1.0424\n",
      "Epoch 4: val_loss did not improve from 1.05022\n",
      "\u001b[1m9/9\u001b[0m \u001b[32m━━━━━━━━━━━━━━━━━━━━\u001b[0m\u001b[37m\u001b[0m \u001b[1m16s\u001b[0m 2s/step - accuracy: 0.4818 - loss: 1.0425 - val_accuracy: 0.4000 - val_loss: 1.1116\n",
      "Epoch 5/50\n",
      "\u001b[1m9/9\u001b[0m \u001b[32m━━━━━━━━━━━━━━━━━━━━\u001b[0m\u001b[37m\u001b[0m \u001b[1m0s\u001b[0m 1s/step - accuracy: 0.5148 - loss: 1.0070\n",
      "Epoch 5: val_loss improved from 1.05022 to 0.97050, saving model to ./my_model_with_DA.keras\n",
      "\u001b[1m9/9\u001b[0m \u001b[32m━━━━━━━━━━━━━━━━━━━━\u001b[0m\u001b[37m\u001b[0m \u001b[1m15s\u001b[0m 1s/step - accuracy: 0.5144 - loss: 1.0079 - val_accuracy: 0.4889 - val_loss: 0.9705\n",
      "Epoch 6/50\n",
      "\u001b[1m9/9\u001b[0m \u001b[32m━━━━━━━━━━━━━━━━━━━━\u001b[0m\u001b[37m\u001b[0m \u001b[1m0s\u001b[0m 1s/step - accuracy: 0.5016 - loss: 0.9828\n",
      "Epoch 6: val_loss did not improve from 0.97050\n",
      "\u001b[1m9/9\u001b[0m \u001b[32m━━━━━━━━━━━━━━━━━━━━\u001b[0m\u001b[37m\u001b[0m \u001b[1m14s\u001b[0m 1s/step - accuracy: 0.5010 - loss: 0.9853 - val_accuracy: 0.3778 - val_loss: 1.0408\n",
      "Epoch 7/50\n",
      "\u001b[1m9/9\u001b[0m \u001b[32m━━━━━━━━━━━━━━━━━━━━\u001b[0m\u001b[37m\u001b[0m \u001b[1m0s\u001b[0m 1s/step - accuracy: 0.5760 - loss: 0.9507\n",
      "Epoch 7: val_loss improved from 0.97050 to 0.95366, saving model to ./my_model_with_DA.keras\n",
      "\u001b[1m9/9\u001b[0m \u001b[32m━━━━━━━━━━━━━━━━━━━━\u001b[0m\u001b[37m\u001b[0m \u001b[1m16s\u001b[0m 2s/step - accuracy: 0.5735 - loss: 0.9520 - val_accuracy: 0.5111 - val_loss: 0.9537\n",
      "Epoch 8/50\n",
      "\u001b[1m9/9\u001b[0m \u001b[32m━━━━━━━━━━━━━━━━━━━━\u001b[0m\u001b[37m\u001b[0m \u001b[1m0s\u001b[0m 1s/step - accuracy: 0.5198 - loss: 0.9985\n",
      "Epoch 8: val_loss did not improve from 0.95366\n",
      "\u001b[1m9/9\u001b[0m \u001b[32m━━━━━━━━━━━━━━━━━━━━\u001b[0m\u001b[37m\u001b[0m \u001b[1m14s\u001b[0m 1s/step - accuracy: 0.5179 - loss: 0.9992 - val_accuracy: 0.4111 - val_loss: 1.1010\n",
      "Epoch 9/50\n",
      "\u001b[1m9/9\u001b[0m \u001b[32m━━━━━━━━━━━━━━━━━━━━\u001b[0m\u001b[37m\u001b[0m \u001b[1m0s\u001b[0m 1s/step - accuracy: 0.5312 - loss: 0.9749\n",
      "Epoch 9: val_loss did not improve from 0.95366\n",
      "\u001b[1m9/9\u001b[0m \u001b[32m━━━━━━━━━━━━━━━━━━━━\u001b[0m\u001b[37m\u001b[0m \u001b[1m15s\u001b[0m 1s/step - accuracy: 0.5310 - loss: 0.9763 - val_accuracy: 0.4222 - val_loss: 1.0160\n",
      "Epoch 10/50\n",
      "\u001b[1m9/9\u001b[0m \u001b[32m━━━━━━━━━━━━━━━━━━━━\u001b[0m\u001b[37m\u001b[0m \u001b[1m0s\u001b[0m 1s/step - accuracy: 0.5564 - loss: 0.9984\n",
      "Epoch 10: val_loss improved from 0.95366 to 0.93413, saving model to ./my_model_with_DA.keras\n",
      "\u001b[1m9/9\u001b[0m \u001b[32m━━━━━━━━━━━━━━━━━━━━\u001b[0m\u001b[37m\u001b[0m \u001b[1m16s\u001b[0m 1s/step - accuracy: 0.5563 - loss: 1.0081 - val_accuracy: 0.5222 - val_loss: 0.9341\n",
      "Epoch 11/50\n",
      "\u001b[1m9/9\u001b[0m \u001b[32m━━━━━━━━━━━━━━━━━━━━\u001b[0m\u001b[37m\u001b[0m \u001b[1m0s\u001b[0m 1s/step - accuracy: 0.5555 - loss: 0.9603\n",
      "Epoch 11: val_loss did not improve from 0.93413\n",
      "\u001b[1m9/9\u001b[0m \u001b[32m━━━━━━━━━━━━━━━━━━━━\u001b[0m\u001b[37m\u001b[0m \u001b[1m13s\u001b[0m 1s/step - accuracy: 0.5529 - loss: 0.9628 - val_accuracy: 0.3889 - val_loss: 1.0141\n",
      "Epoch 12/50\n",
      "\u001b[1m9/9\u001b[0m \u001b[32m━━━━━━━━━━━━━━━━━━━━\u001b[0m\u001b[37m\u001b[0m \u001b[1m0s\u001b[0m 1s/step - accuracy: 0.5666 - loss: 0.9184\n",
      "Epoch 12: val_loss did not improve from 0.93413\n",
      "\u001b[1m9/9\u001b[0m \u001b[32m━━━━━━━━━━━━━━━━━━━━\u001b[0m\u001b[37m\u001b[0m \u001b[1m13s\u001b[0m 1s/step - accuracy: 0.5611 - loss: 0.9240 - val_accuracy: 0.4333 - val_loss: 1.0082\n",
      "Epoch 13/50\n",
      "\u001b[1m9/9\u001b[0m \u001b[32m━━━━━━━━━━━━━━━━━━━━\u001b[0m\u001b[37m\u001b[0m \u001b[1m0s\u001b[0m 1s/step - accuracy: 0.5645 - loss: 0.9447  \n",
      "Epoch 13: val_loss did not improve from 0.93413\n",
      "\u001b[1m9/9\u001b[0m \u001b[32m━━━━━━━━━━━━━━━━━━━━\u001b[0m\u001b[37m\u001b[0m \u001b[1m13s\u001b[0m 1s/step - accuracy: 0.5654 - loss: 0.9464 - val_accuracy: 0.4111 - val_loss: 1.0313\n",
      "Epoch 14/50\n",
      "\u001b[1m9/9\u001b[0m \u001b[32m━━━━━━━━━━━━━━━━━━━━\u001b[0m\u001b[37m\u001b[0m \u001b[1m0s\u001b[0m 1s/step - accuracy: 0.5592 - loss: 0.9646\n",
      "Epoch 14: val_loss did not improve from 0.93413\n",
      "\u001b[1m9/9\u001b[0m \u001b[32m━━━━━━━━━━━━━━━━━━━━\u001b[0m\u001b[37m\u001b[0m \u001b[1m15s\u001b[0m 1s/step - accuracy: 0.5573 - loss: 0.9638 - val_accuracy: 0.4667 - val_loss: 1.0095\n",
      "Epoch 15/50\n",
      "\u001b[1m9/9\u001b[0m \u001b[32m━━━━━━━━━━━━━━━━━━━━\u001b[0m\u001b[37m\u001b[0m \u001b[1m0s\u001b[0m 1s/step - accuracy: 0.5599 - loss: 0.9301   \n",
      "Epoch 15: val_loss did not improve from 0.93413\n",
      "\u001b[1m9/9\u001b[0m \u001b[32m━━━━━━━━━━━━━━━━━━━━\u001b[0m\u001b[37m\u001b[0m \u001b[1m13s\u001b[0m 1s/step - accuracy: 0.5583 - loss: 0.9322 - val_accuracy: 0.4667 - val_loss: 0.9694\n",
      "Epoch 15: early stopping\n"
     ]
    },
    {
     "data": {
      "text/html": [
       "<pre style=\"white-space:pre;overflow-x:auto;line-height:normal;font-family:Menlo,'DejaVu Sans Mono',consolas,'Courier New',monospace\"><span style=\"font-weight: bold\">Model: \"sequential_3\"</span>\n",
       "</pre>\n"
      ],
      "text/plain": [
       "\u001b[1mModel: \"sequential_3\"\u001b[0m\n"
      ]
     },
     "metadata": {},
     "output_type": "display_data"
    },
    {
     "data": {
      "text/html": [
       "<pre style=\"white-space:pre;overflow-x:auto;line-height:normal;font-family:Menlo,'DejaVu Sans Mono',consolas,'Courier New',monospace\">┏━━━━━━━━━━━━━━━━━━━━━━━━━━━━━━━━━┳━━━━━━━━━━━━━━━━━━━━━━━━┳━━━━━━━━━━━━━━━┓\n",
       "┃<span style=\"font-weight: bold\"> Layer (type)                    </span>┃<span style=\"font-weight: bold\"> Output Shape           </span>┃<span style=\"font-weight: bold\">       Param # </span>┃\n",
       "┡━━━━━━━━━━━━━━━━━━━━━━━━━━━━━━━━━╇━━━━━━━━━━━━━━━━━━━━━━━━╇━━━━━━━━━━━━━━━┩\n",
       "│ conv2d_9 (<span style=\"color: #0087ff; text-decoration-color: #0087ff\">Conv2D</span>)               │ (<span style=\"color: #00d7ff; text-decoration-color: #00d7ff\">None</span>, <span style=\"color: #00af00; text-decoration-color: #00af00\">222</span>, <span style=\"color: #00af00; text-decoration-color: #00af00\">222</span>, <span style=\"color: #00af00; text-decoration-color: #00af00\">32</span>)   │           <span style=\"color: #00af00; text-decoration-color: #00af00\">896</span> │\n",
       "├─────────────────────────────────┼────────────────────────┼───────────────┤\n",
       "│ max_pooling2d_6 (<span style=\"color: #0087ff; text-decoration-color: #0087ff\">MaxPooling2D</span>)  │ (<span style=\"color: #00d7ff; text-decoration-color: #00d7ff\">None</span>, <span style=\"color: #00af00; text-decoration-color: #00af00\">111</span>, <span style=\"color: #00af00; text-decoration-color: #00af00\">111</span>, <span style=\"color: #00af00; text-decoration-color: #00af00\">32</span>)   │             <span style=\"color: #00af00; text-decoration-color: #00af00\">0</span> │\n",
       "├─────────────────────────────────┼────────────────────────┼───────────────┤\n",
       "│ conv2d_10 (<span style=\"color: #0087ff; text-decoration-color: #0087ff\">Conv2D</span>)              │ (<span style=\"color: #00d7ff; text-decoration-color: #00d7ff\">None</span>, <span style=\"color: #00af00; text-decoration-color: #00af00\">109</span>, <span style=\"color: #00af00; text-decoration-color: #00af00\">109</span>, <span style=\"color: #00af00; text-decoration-color: #00af00\">64</span>)   │        <span style=\"color: #00af00; text-decoration-color: #00af00\">18,496</span> │\n",
       "├─────────────────────────────────┼────────────────────────┼───────────────┤\n",
       "│ max_pooling2d_7 (<span style=\"color: #0087ff; text-decoration-color: #0087ff\">MaxPooling2D</span>)  │ (<span style=\"color: #00d7ff; text-decoration-color: #00d7ff\">None</span>, <span style=\"color: #00af00; text-decoration-color: #00af00\">54</span>, <span style=\"color: #00af00; text-decoration-color: #00af00\">54</span>, <span style=\"color: #00af00; text-decoration-color: #00af00\">64</span>)     │             <span style=\"color: #00af00; text-decoration-color: #00af00\">0</span> │\n",
       "├─────────────────────────────────┼────────────────────────┼───────────────┤\n",
       "│ conv2d_11 (<span style=\"color: #0087ff; text-decoration-color: #0087ff\">Conv2D</span>)              │ (<span style=\"color: #00d7ff; text-decoration-color: #00d7ff\">None</span>, <span style=\"color: #00af00; text-decoration-color: #00af00\">52</span>, <span style=\"color: #00af00; text-decoration-color: #00af00\">52</span>, <span style=\"color: #00af00; text-decoration-color: #00af00\">128</span>)    │        <span style=\"color: #00af00; text-decoration-color: #00af00\">73,856</span> │\n",
       "├─────────────────────────────────┼────────────────────────┼───────────────┤\n",
       "│ global_average_pooling2d_3      │ (<span style=\"color: #00d7ff; text-decoration-color: #00d7ff\">None</span>, <span style=\"color: #00af00; text-decoration-color: #00af00\">128</span>)            │             <span style=\"color: #00af00; text-decoration-color: #00af00\">0</span> │\n",
       "│ (<span style=\"color: #0087ff; text-decoration-color: #0087ff\">GlobalAveragePooling2D</span>)        │                        │               │\n",
       "├─────────────────────────────────┼────────────────────────┼───────────────┤\n",
       "│ dense_6 (<span style=\"color: #0087ff; text-decoration-color: #0087ff\">Dense</span>)                 │ (<span style=\"color: #00d7ff; text-decoration-color: #00d7ff\">None</span>, <span style=\"color: #00af00; text-decoration-color: #00af00\">128</span>)            │        <span style=\"color: #00af00; text-decoration-color: #00af00\">16,512</span> │\n",
       "├─────────────────────────────────┼────────────────────────┼───────────────┤\n",
       "│ dropout_3 (<span style=\"color: #0087ff; text-decoration-color: #0087ff\">Dropout</span>)             │ (<span style=\"color: #00d7ff; text-decoration-color: #00d7ff\">None</span>, <span style=\"color: #00af00; text-decoration-color: #00af00\">128</span>)            │             <span style=\"color: #00af00; text-decoration-color: #00af00\">0</span> │\n",
       "├─────────────────────────────────┼────────────────────────┼───────────────┤\n",
       "│ dense_7 (<span style=\"color: #0087ff; text-decoration-color: #0087ff\">Dense</span>)                 │ (<span style=\"color: #00d7ff; text-decoration-color: #00d7ff\">None</span>, <span style=\"color: #00af00; text-decoration-color: #00af00\">3</span>)              │           <span style=\"color: #00af00; text-decoration-color: #00af00\">387</span> │\n",
       "└─────────────────────────────────┴────────────────────────┴───────────────┘\n",
       "</pre>\n"
      ],
      "text/plain": [
       "┏━━━━━━━━━━━━━━━━━━━━━━━━━━━━━━━━━┳━━━━━━━━━━━━━━━━━━━━━━━━┳━━━━━━━━━━━━━━━┓\n",
       "┃\u001b[1m \u001b[0m\u001b[1mLayer (type)                   \u001b[0m\u001b[1m \u001b[0m┃\u001b[1m \u001b[0m\u001b[1mOutput Shape          \u001b[0m\u001b[1m \u001b[0m┃\u001b[1m \u001b[0m\u001b[1m      Param #\u001b[0m\u001b[1m \u001b[0m┃\n",
       "┡━━━━━━━━━━━━━━━━━━━━━━━━━━━━━━━━━╇━━━━━━━━━━━━━━━━━━━━━━━━╇━━━━━━━━━━━━━━━┩\n",
       "│ conv2d_9 (\u001b[38;5;33mConv2D\u001b[0m)               │ (\u001b[38;5;45mNone\u001b[0m, \u001b[38;5;34m222\u001b[0m, \u001b[38;5;34m222\u001b[0m, \u001b[38;5;34m32\u001b[0m)   │           \u001b[38;5;34m896\u001b[0m │\n",
       "├─────────────────────────────────┼────────────────────────┼───────────────┤\n",
       "│ max_pooling2d_6 (\u001b[38;5;33mMaxPooling2D\u001b[0m)  │ (\u001b[38;5;45mNone\u001b[0m, \u001b[38;5;34m111\u001b[0m, \u001b[38;5;34m111\u001b[0m, \u001b[38;5;34m32\u001b[0m)   │             \u001b[38;5;34m0\u001b[0m │\n",
       "├─────────────────────────────────┼────────────────────────┼───────────────┤\n",
       "│ conv2d_10 (\u001b[38;5;33mConv2D\u001b[0m)              │ (\u001b[38;5;45mNone\u001b[0m, \u001b[38;5;34m109\u001b[0m, \u001b[38;5;34m109\u001b[0m, \u001b[38;5;34m64\u001b[0m)   │        \u001b[38;5;34m18,496\u001b[0m │\n",
       "├─────────────────────────────────┼────────────────────────┼───────────────┤\n",
       "│ max_pooling2d_7 (\u001b[38;5;33mMaxPooling2D\u001b[0m)  │ (\u001b[38;5;45mNone\u001b[0m, \u001b[38;5;34m54\u001b[0m, \u001b[38;5;34m54\u001b[0m, \u001b[38;5;34m64\u001b[0m)     │             \u001b[38;5;34m0\u001b[0m │\n",
       "├─────────────────────────────────┼────────────────────────┼───────────────┤\n",
       "│ conv2d_11 (\u001b[38;5;33mConv2D\u001b[0m)              │ (\u001b[38;5;45mNone\u001b[0m, \u001b[38;5;34m52\u001b[0m, \u001b[38;5;34m52\u001b[0m, \u001b[38;5;34m128\u001b[0m)    │        \u001b[38;5;34m73,856\u001b[0m │\n",
       "├─────────────────────────────────┼────────────────────────┼───────────────┤\n",
       "│ global_average_pooling2d_3      │ (\u001b[38;5;45mNone\u001b[0m, \u001b[38;5;34m128\u001b[0m)            │             \u001b[38;5;34m0\u001b[0m │\n",
       "│ (\u001b[38;5;33mGlobalAveragePooling2D\u001b[0m)        │                        │               │\n",
       "├─────────────────────────────────┼────────────────────────┼───────────────┤\n",
       "│ dense_6 (\u001b[38;5;33mDense\u001b[0m)                 │ (\u001b[38;5;45mNone\u001b[0m, \u001b[38;5;34m128\u001b[0m)            │        \u001b[38;5;34m16,512\u001b[0m │\n",
       "├─────────────────────────────────┼────────────────────────┼───────────────┤\n",
       "│ dropout_3 (\u001b[38;5;33mDropout\u001b[0m)             │ (\u001b[38;5;45mNone\u001b[0m, \u001b[38;5;34m128\u001b[0m)            │             \u001b[38;5;34m0\u001b[0m │\n",
       "├─────────────────────────────────┼────────────────────────┼───────────────┤\n",
       "│ dense_7 (\u001b[38;5;33mDense\u001b[0m)                 │ (\u001b[38;5;45mNone\u001b[0m, \u001b[38;5;34m3\u001b[0m)              │           \u001b[38;5;34m387\u001b[0m │\n",
       "└─────────────────────────────────┴────────────────────────┴───────────────┘\n"
      ]
     },
     "metadata": {},
     "output_type": "display_data"
    },
    {
     "data": {
      "text/html": [
       "<pre style=\"white-space:pre;overflow-x:auto;line-height:normal;font-family:Menlo,'DejaVu Sans Mono',consolas,'Courier New',monospace\"><span style=\"font-weight: bold\"> Total params: </span><span style=\"color: #00af00; text-decoration-color: #00af00\">220,296</span> (860.54 KB)\n",
       "</pre>\n"
      ],
      "text/plain": [
       "\u001b[1m Total params: \u001b[0m\u001b[38;5;34m220,296\u001b[0m (860.54 KB)\n"
      ]
     },
     "metadata": {},
     "output_type": "display_data"
    },
    {
     "data": {
      "text/html": [
       "<pre style=\"white-space:pre;overflow-x:auto;line-height:normal;font-family:Menlo,'DejaVu Sans Mono',consolas,'Courier New',monospace\"><span style=\"font-weight: bold\"> Trainable params: </span><span style=\"color: #00af00; text-decoration-color: #00af00\">110,147</span> (430.26 KB)\n",
       "</pre>\n"
      ],
      "text/plain": [
       "\u001b[1m Trainable params: \u001b[0m\u001b[38;5;34m110,147\u001b[0m (430.26 KB)\n"
      ]
     },
     "metadata": {},
     "output_type": "display_data"
    },
    {
     "data": {
      "text/html": [
       "<pre style=\"white-space:pre;overflow-x:auto;line-height:normal;font-family:Menlo,'DejaVu Sans Mono',consolas,'Courier New',monospace\"><span style=\"font-weight: bold\"> Non-trainable params: </span><span style=\"color: #00af00; text-decoration-color: #00af00\">0</span> (0.00 B)\n",
       "</pre>\n"
      ],
      "text/plain": [
       "\u001b[1m Non-trainable params: \u001b[0m\u001b[38;5;34m0\u001b[0m (0.00 B)\n"
      ]
     },
     "metadata": {},
     "output_type": "display_data"
    },
    {
     "data": {
      "text/html": [
       "<pre style=\"white-space:pre;overflow-x:auto;line-height:normal;font-family:Menlo,'DejaVu Sans Mono',consolas,'Courier New',monospace\"><span style=\"font-weight: bold\"> Optimizer params: </span><span style=\"color: #00af00; text-decoration-color: #00af00\">110,149</span> (430.27 KB)\n",
       "</pre>\n"
      ],
      "text/plain": [
       "\u001b[1m Optimizer params: \u001b[0m\u001b[38;5;34m110,149\u001b[0m (430.27 KB)\n"
      ]
     },
     "metadata": {},
     "output_type": "display_data"
    }
   ],
   "source": [
    "with tf.device('/gpu:0'): \n",
    "    history2 = my_model.fit(train_flow,\n",
    "                    validation_data=val_flow,\n",
    "                    epochs=50, callbacks=callbacks_list, verbose=1)\n",
    "my_model.summary()"
   ]
  },
  {
   "cell_type": "code",
   "execution_count": 70,
   "metadata": {},
   "outputs": [
    {
     "name": "stdout",
     "output_type": "stream",
     "text": [
      "\u001b[1m9/9\u001b[0m \u001b[32m━━━━━━━━━━━━━━━━━━━━\u001b[0m\u001b[37m\u001b[0m \u001b[1m3s\u001b[0m 331ms/step - accuracy: 0.5740 - loss: 0.9185\n",
      "Training Accuracy   : 0.5699\n",
      "\n",
      "\u001b[1m3/3\u001b[0m \u001b[32m━━━━━━━━━━━━━━━━━━━━\u001b[0m\u001b[37m\u001b[0m \u001b[1m1s\u001b[0m 369ms/step - accuracy: 0.4632 - loss: 0.9588\n",
      "Validation Accuracy :  0.4889\n"
     ]
    }
   ],
   "source": [
    "# Score du dernier epoch\n",
    "\n",
    "loss, accuracy = my_model.evaluate(train_flow, verbose=True)\n",
    "print(\"Training Accuracy   : {:.4f}\".format(accuracy))\n",
    "print()\n",
    "loss, accuracy = my_model.evaluate(val_flow, verbose=True)\n",
    "print(\"Validation Accuracy :  {:.4f}\".format(accuracy))"
   ]
  },
  {
   "cell_type": "code",
   "execution_count": 101,
   "metadata": {},
   "outputs": [
    {
     "name": "stderr",
     "output_type": "stream",
     "text": [
      "/opt/anaconda3/envs/realboap6/lib/python3.9/site-packages/keras/src/trainers/data_adapters/py_dataset_adapter.py:121: UserWarning: Your `PyDataset` class should call `super().__init__(**kwargs)` in its constructor. `**kwargs` can include `workers`, `use_multiprocessing`, `max_queue_size`. Do not pass these arguments to `fit()`, as they will be ignored.\n",
      "  self._warn_if_super_not_called()\n"
     ]
    },
    {
     "name": "stdout",
     "output_type": "stream",
     "text": [
      "Validation Accuracy :  0.5111\n",
      "Test Accuracy       :  0.5385\n"
     ]
    }
   ],
   "source": [
    "import keras\n",
    "# Score de l'epoch optimal\n",
    "my_model = keras.models.load_model('./my_model_with_DA.keras')\n",
    "\n",
    "loss, accuracy = my_model.evaluate(val_flow, verbose=False)\n",
    "print(\"Validation Accuracy :  {:.4f}\".format(accuracy))\n",
    "loss, accuracy = my_model.evaluate(test_flow, verbose=False)\n",
    "print(\"Test Accuracy       :  {:.4f}\".format(accuracy))"
   ]
  },
  {
   "cell_type": "code",
   "execution_count": 73,
   "metadata": {},
   "outputs": [
    {
     "data": {
      "image/png": "[encoded data removed]",
      "text/plain": [
       "<Figure size 1000x500 with 2 Axes>"
      ]
     },
     "metadata": {},
     "output_type": "display_data"
    }
   ],
   "source": [
    "show_history(history2)\n",
    "plot_history(history2, path=\"standard.png\")\n",
    "plt.close()"
   ]
  },
  {
   "cell_type": "code",
   "execution_count": 76,
   "metadata": {},
   "outputs": [
    {
     "name": "stdout",
     "output_type": "stream",
     "text": [
      "[2, 0, 2, 2, 1, 1, 1, 0, 2, 0, 0, 2, 0, 2, 2, 0, 1, 2, 1, 0, 0, 0, 1, 0, 2, 2, 0, 2, 0, 2, 2, 1, 2, 0, 2, 0, 2, 2, 0, 0, 1, 0, 2, 0, 1, 0, 0, 1, 2, 1, 2, 0, 1, 2, 2, 1, 0, 2, 0, 2, 1, 0, 0, 1, 1, 0, 2, 1, 1, 1, 1, 2, 0, 1, 2, 1, 0, 2, 2, 0, 1, 2, 2, 0, 0, 2, 2, 0, 0, 0, 1]\n"
     ]
    }
   ],
   "source": [
    "print(test_flow.classes)"
   ]
  },
  {
   "cell_type": "code",
   "execution_count": 106,
   "metadata": {},
   "outputs": [
    {
     "name": "stderr",
     "output_type": "stream",
     "text": [
      "/opt/anaconda3/envs/realboap6/lib/python3.9/site-packages/keras/src/trainers/data_adapters/py_dataset_adapter.py:121: UserWarning: Your `PyDataset` class should call `super().__init__(**kwargs)` in its constructor. `**kwargs` can include `workers`, `use_multiprocessing`, `max_queue_size`. Do not pass these arguments to `fit()`, as they will be ignored.\n",
      "  self._warn_if_super_not_called()\n"
     ]
    },
    {
     "name": "stdout",
     "output_type": "stream",
     "text": [
      "\u001b[1m3/3\u001b[0m \u001b[32m━━━━━━━━━━━━━━━━━━━━\u001b[0m\u001b[37m\u001b[0m \u001b[1m1s\u001b[0m 167ms/step\n",
      "[2, 0, 2, 2, 1, 1, 1, 0, 2, 0, 0, 2, 0, 2, 2, 0, 1, 2, 1, 0, 0, 0, 1, 0, 2, 2, 0, 2, 0, 2, 2, 1, 2, 0, 2, 0, 2, 2, 0, 0, 1, 0, 2, 0, 1, 0, 0, 1, 2, 1, 2, 0, 1, 2, 2, 1, 0, 2, 0, 2, 1, 0, 0, 1, 1, 0, 2, 1, 1, 1, 1, 2, 0, 1, 2, 1, 0, 2, 2, 0, 1, 2, 2, 0, 0, 2, 2, 0, 0, 0, 1]\n",
      "\n",
      "[2 0 2 1 1 2 2 2 0 2 0 2 0 1 2 2 2 0 1 2 2 0 1 0 2 1 2 2 1 2 2 1 2 0 2 2 0\n",
      " 2 1 2 2 2 2 2 1 0 2 1 2 1 2 1 1 1 2 1 0 2 2 1 1 1 0 1 1 2 1 2 1 1 2 1 2 2\n",
      " 2 2 0 1 2 0 1 2 2 2 1 1 0 0 0 0 2]\n"
     ]
    }
   ],
   "source": [
    "y_val_num = test_flow.classes\n",
    "y_val_pred = np.argmax(my_model.predict(test_flow), axis=1)\n",
    "print(y_val_num)\n",
    "print()\n",
    "print(y_val_pred)\n"
   ]
  },
  {
   "cell_type": "code",
   "execution_count": 107,
   "metadata": {},
   "outputs": [
    {
     "name": "stdout",
     "output_type": "stream",
     "text": [
      "Correspondance des clusters :  [0 1 2]\n",
      "[[14  5 15]\n",
      " [ 0 15  9]\n",
      " [ 4  9 20]]\n",
      "\n",
      "              precision    recall  f1-score   support\n",
      "\n",
      "           0       0.78      0.41      0.54        34\n",
      "           1       0.52      0.62      0.57        24\n",
      "           2       0.45      0.61      0.52        33\n",
      "\n",
      "    accuracy                           0.54        91\n",
      "   macro avg       0.58      0.55      0.54        91\n",
      "weighted avg       0.59      0.54      0.54        91\n",
      "\n"
     ]
    }
   ],
   "source": [
    "y_val_pred_transform = conf_mat_transform(y_val_num, y_val_pred)\n",
    "conf_mat = metrics.confusion_matrix(y_val_num, y_val_pred_transform)\n",
    "print(conf_mat)\n",
    "print()\n",
    "print(metrics.classification_report(y_val_num, y_val_pred_transform, zero_division=0))"
   ]
  },
  {
   "cell_type": "code",
   "execution_count": 104,
   "metadata": {},
   "outputs": [
    {
     "data": {
      "text/plain": [
       "<Axes: >"
      ]
     },
     "execution_count": 104,
     "metadata": {},
     "output_type": "execute_result"
    },
    {
     "data": {
      "image/png": "[encoded data removed]",
      "text/plain": [
       "<Figure size 600x400 with 2 Axes>"
      ]
     },
     "metadata": {},
     "output_type": "display_data"
    }
   ],
   "source": [
    "df_cm = pd.DataFrame(conf_mat, index = [label for label in list_labels],\n",
    "                  columns = [i for i in \"012\"])\n",
    "plt.figure(figsize = (6,4))\n",
    "sns.heatmap(df_cm, annot=True, cmap=\"Blues\")"
   ]
  }
 ],
 "metadata": {
  "kernelspec": {
   "display_name": "realboap6",
   "language": "python",
   "name": "python3"
  },
  "language_info": {
   "codemirror_mode": {
    "name": "ipython",
    "version": 3
   },
   "file_extension": ".py",
   "mimetype": "text/x-python",
   "name": "python",
   "nbconvert_exporter": "python",
   "pygments_lexer": "ipython3",
   "version": "3.9.19"
  }
 },
 "nbformat": 4,
 "nbformat_minor": 2
}
